{
 "cells": [
  {
   "cell_type": "code",
   "execution_count": null,
   "id": "9f2d36a0",
   "metadata": {},
   "outputs": [],
   "source": [
    "#A recommendation algorithm is a method used to suggest relevant items (like movies, products, or songs) to users based on their preferences, behavior, or similarities with other users. Common types include:\n",
    "\n",
    "# Content-based filtering: Recommends items similar to those a user liked before.\n",
    "# Collaborative filtering: Recommends items based on what similar users liked.\n",
    "# Hybrid methods: Combine both approaches for better accuracy.\n",
    "# These algorithms are widely used in platforms like Netflix, Amazon, and Spotify to personalize user experience."
   ]
  },
  {
   "cell_type": "code",
   "execution_count": null,
   "id": "94d0e39e",
   "metadata": {},
   "outputs": [],
   "source": [
    "import pandas  as pd\n",
    "import numpy   as np"
   ]
  },
  {
   "cell_type": "code",
   "execution_count": null,
   "id": "818182d9",
   "metadata": {},
   "outputs": [],
   "source": [
    "movies=pd.read_csv('tmdb_5000_movies.csv')\n",
    "movies.head()"
   ]
  },
  {
   "cell_type": "code",
   "execution_count": null,
   "id": "9eb21f9d",
   "metadata": {},
   "outputs": [],
   "source": [
    "movies.genres[0]"
   ]
  },
  {
   "cell_type": "code",
   "execution_count": null,
   "id": "f75af2fb",
   "metadata": {},
   "outputs": [],
   "source": [
    "movies.keywords[0]\n"
   ]
  },
  {
   "cell_type": "code",
   "execution_count": null,
   "id": "26d2ed40",
   "metadata": {},
   "outputs": [],
   "source": [
    "credits=pd.read_csv('tmdb_5000_credits.csv')\n",
    "credits"
   ]
  },
  {
   "cell_type": "code",
   "execution_count": null,
   "id": "5930a330",
   "metadata": {},
   "outputs": [],
   "source": [
    "credits.head(1)['cast'].values"
   ]
  },
  {
   "cell_type": "code",
   "execution_count": null,
   "id": "e688304d",
   "metadata": {},
   "outputs": [],
   "source": [
    "credits.iloc[0]"
   ]
  },
  {
   "cell_type": "code",
   "execution_count": null,
   "id": "2726a5c8",
   "metadata": {},
   "outputs": [],
   "source": [
    "credits.head(1)['cast'].values"
   ]
  },
  {
   "cell_type": "code",
   "execution_count": null,
   "id": "0cdda019",
   "metadata": {},
   "outputs": [],
   "source": [
    "credits.head(1)['crew'].values"
   ]
  },
  {
   "cell_type": "code",
   "execution_count": null,
   "id": "226ce7a7",
   "metadata": {},
   "outputs": [],
   "source": [
    "movies=movies.merge(credits,on='title')"
   ]
  },
  {
   "cell_type": "code",
   "execution_count": null,
   "id": "135fb25e",
   "metadata": {},
   "outputs": [],
   "source": [
    "movies.columns"
   ]
  },
  {
   "cell_type": "code",
   "execution_count": null,
   "id": "dcf759a4",
   "metadata": {},
   "outputs": [],
   "source": [
    "movies=movies[['movie_id','title','overview','genres','keywords','cast','crew']]\n",
    "movies.sample(20)"
   ]
  },
  {
   "cell_type": "code",
   "execution_count": null,
   "id": "fffef7b0",
   "metadata": {},
   "outputs": [],
   "source": [
    "#Preprocessing the data"
   ]
  },
  {
   "cell_type": "code",
   "execution_count": null,
   "id": "bc1c892b",
   "metadata": {},
   "outputs": [],
   "source": [
    "movies.isnull().sum()"
   ]
  },
  {
   "cell_type": "code",
   "execution_count": null,
   "id": "0eb601b4",
   "metadata": {},
   "outputs": [],
   "source": [
    "movies.dropna(inplace=True) #dropna basically ye karta hay missing values ko hatadeta hay "
   ]
  },
  {
   "cell_type": "code",
   "execution_count": null,
   "id": "5745b442",
   "metadata": {},
   "outputs": [],
   "source": [
    "movies.isnull().sum() # it tells the count of missing values in each column"
   ]
  },
  {
   "cell_type": "code",
   "execution_count": null,
   "id": "a2949609",
   "metadata": {},
   "outputs": [],
   "source": [
    "movies.duplicated().sum()"
   ]
  },
  {
   "cell_type": "code",
   "execution_count": null,
   "id": "acb3722b",
   "metadata": {},
   "outputs": [],
   "source": [
    "movies.iloc[0].genres"
   ]
  },
  {
   "cell_type": "code",
   "execution_count": null,
   "id": "4744d8b5",
   "metadata": {},
   "outputs": [],
   "source": [
    "import ast #ast module helps to convert string representation of list or dictionary into actual list or dictionary"
   ]
  },
  {
   "cell_type": "code",
   "execution_count": null,
   "id": "5ac38086",
   "metadata": {},
   "outputs": [],
   "source": [
    "def convert(obj):\n",
    "    try:\n",
    "        L = []\n",
    "        for i in ast.literal_eval(obj):\n",
    "            L.append(i['name'])\n",
    "        return L\n",
    "    except Exception:\n",
    "        return [] "
   ]
  },
  {
   "cell_type": "code",
   "execution_count": null,
   "id": "f478f7b1",
   "metadata": {},
   "outputs": [],
   "source": [
    "convert('[{\"id\": 28, \"name\": \"Action\"}], [{\"id\": 12, \"name\": \"Adventure\"}], [{\"id\": 14, \"name\": \"Fantasy\"}], [{\"id\": 878, \"name\": \"Science Fiction\"}]')"
   ]
  },
  {
   "cell_type": "code",
   "execution_count": null,
   "id": "5420eac1",
   "metadata": {},
   "outputs": [],
   "source": [
    "movies['genres'] = movies['genres'].apply(convert)\n",
    "movies"
   ]
  },
  {
   "cell_type": "code",
   "execution_count": null,
   "id": "20304bc6",
   "metadata": {},
   "outputs": [],
   "source": [
    "movies = pd.read_csv('tmdb_5000_movies.csv')\n",
    "movies.columns"
   ]
  },
  {
   "cell_type": "code",
   "execution_count": null,
   "id": "0d45959b",
   "metadata": {},
   "outputs": [],
   "source": [
    "movies['genres'] = movies['genres'].apply(convert)\n",
    "movies"
   ]
  },
  {
   "cell_type": "code",
   "execution_count": null,
   "id": "2eb4566a",
   "metadata": {},
   "outputs": [],
   "source": [
    "movies.iloc[0].keywords"
   ]
  },
  {
   "cell_type": "code",
   "execution_count": null,
   "id": "e265c39d",
   "metadata": {},
   "outputs": [],
   "source": [
    "movies['keywords'] = movies['keywords'].apply(convert)\n",
    "movies.keywords"
   ]
  },
  {
   "cell_type": "code",
   "execution_count": null,
   "id": "b93042a7",
   "metadata": {},
   "outputs": [],
   "source": [
    "movies.iloc[0].cast"
   ]
  },
  {
   "cell_type": "code",
   "execution_count": null,
   "id": "da14627f",
   "metadata": {},
   "outputs": [],
   "source": [
    "print(movies.columns)"
   ]
  },
  {
   "cell_type": "code",
   "execution_count": null,
   "id": "9f82cc06",
   "metadata": {},
   "outputs": [],
   "source": [
    "movies.overview[0]"
   ]
  },
  {
   "cell_type": "code",
   "execution_count": 39,
   "id": "6ca3314a",
   "metadata": {},
   "outputs": [],
   "source": [
    "movies['overview'] = movies['overview'].apply(lambda x: x.split() if isinstance(x, str) else [])"
   ]
  },
  {
   "cell_type": "code",
   "execution_count": 40,
   "id": "cf0b1b0e",
   "metadata": {},
   "outputs": [
    {
     "data": {
      "text/plain": [
       "['In',\n",
       " 'the',\n",
       " '22nd',\n",
       " 'century,',\n",
       " 'a',\n",
       " 'paraplegic',\n",
       " 'Marine',\n",
       " 'is',\n",
       " 'dispatched',\n",
       " 'to',\n",
       " 'the',\n",
       " 'moon',\n",
       " 'Pandora',\n",
       " 'on',\n",
       " 'a',\n",
       " 'unique',\n",
       " 'mission,',\n",
       " 'but',\n",
       " 'becomes',\n",
       " 'torn',\n",
       " 'between',\n",
       " 'following',\n",
       " 'orders',\n",
       " 'and',\n",
       " 'protecting',\n",
       " 'an',\n",
       " 'alien',\n",
       " 'civilization.']"
      ]
     },
     "execution_count": 40,
     "metadata": {},
     "output_type": "execute_result"
    }
   ],
   "source": [
    "movies.overview[0]"
   ]
  }
 ],
 "metadata": {
  "kernelspec": {
   "display_name": "Python 3",
   "language": "python",
   "name": "python3"
  },
  "language_info": {
   "codemirror_mode": {
    "name": "ipython",
    "version": 3
   },
   "file_extension": ".py",
   "mimetype": "text/x-python",
   "name": "python",
   "nbconvert_exporter": "python",
   "pygments_lexer": "ipython3",
   "version": "3.12.6"
  }
 },
 "nbformat": 4,
 "nbformat_minor": 5
}
